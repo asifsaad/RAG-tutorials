{
 "cells": [
  {
   "cell_type": "markdown",
   "metadata": {},
   "source": [
    "# Part 1: Introduction to RAG Systems"
   ]
  },
  {
   "cell_type": "markdown",
   "metadata": {},
   "source": [
    "## Demonstrating a simple RAG pipeline"
   ]
  },
  {
   "cell_type": "code",
   "execution_count": 12,
   "metadata": {},
   "outputs": [
    {
     "name": "stderr",
     "output_type": "stream",
     "text": [
      "Device set to use mps:0\n",
      "Setting `pad_token_id` to `eos_token_id`:50256 for open-end generation.\n"
     ]
    },
    {
     "name": "stdout",
     "output_type": "stream",
     "text": [
      "\n",
      " \n",
      "\n",
      "User Query: \n",
      "What are the side effects of Metformin? \n",
      "\n",
      "Matched documents: \n",
      "['It works by lowering glucose production in the liver.', 'Common side effects include nausea, upset stomach, and diarrhea.']\n",
      "\n",
      "Generated Response - using Query and matched documents: \n",
      "Context: It works by lowering glucose production in the liver.\\nCommon side effects include nausea, upset stomach, and diarrhea.\\n\\nQuestion: What are the side effects of Metformin?\\nAnswer: Metformin can cause a variety of effects depending on the exact medicine. For example, it can cause diarrhea to be more severe than usual and has little or no effects.\\n\\nQuestion: How do people take Metformin?\\ \n",
      "\n"
     ]
    }
   ],
   "source": [
    "import torch\n",
    "from transformers import pipeline\n",
    "\n",
    "# Step 1: Define documents\n",
    "knowledge_base = [\n",
    "    \"Metformin is a medication used to treat type 2 diabetes.\",\n",
    "    \"It works by lowering glucose production in the liver.\",\n",
    "    \"Common side effects include nausea, upset stomach, and diarrhea.\",\n",
    "    \"Octopuses have three hearts and blue blood.\",\n",
    "    \"Honey never spoils and has been found edible in ancient Egyptian tombs.\",\n",
    "    \"Sharks have been around longer than trees, existing for over 400 million years.\"\n",
    "]\n",
    "\n",
    "# Step 2: Define a simple retriever (keyword matching)\n",
    "def retrieve_docs(query, documents):\n",
    "    \n",
    "    matching_docs = []\n",
    "\n",
    "    for doc in documents:\n",
    "        doc_lower = doc.lower()\n",
    "        query_words = query.lower().split()\n",
    "\n",
    "        for word in query_words:\n",
    "            if word in doc_lower:\n",
    "                matching_docs.append(doc)\n",
    "                break  # Stop checking after the first match\n",
    "\n",
    "    return matching_docs\n",
    "\n",
    "\n",
    "# Step 3: Combine query with retrieved docs\n",
    "def create_prompt(query, retrieved_docs):\n",
    "    context = \"\\\\n\".join(retrieved_docs)\n",
    "    return f\"Context: {context}\\\\n\\\\nQuestion: {query}\\\\nAnswer:\"\n",
    "\n",
    "# Step 4: Use an LLM to generate answer\n",
    "qa_pipeline = pipeline(\"text-generation\", model=\"gpt2\")\n",
    "print(\"\\n \\n\")\n",
    "#query\n",
    "query = \"What are the side effects of Metformin?\"\n",
    "\n",
    "# matched documents\n",
    "retrieved = retrieve_docs(query, knowledge_base)\n",
    "\n",
    "# prompt that packs the query + matched documents\n",
    "prompt = create_prompt(query, retrieved)\n",
    "\n",
    "# generation\n",
    "result = qa_pipeline(prompt, max_new_tokens=50, do_sample=True)[0]['generated_text']\n",
    "\n",
    "\n",
    "print(\"User Query: \")\n",
    "print(query, '\\n')\n",
    "print('Matched documents: ')\n",
    "print(retrieved)\n",
    "print()\n",
    "print(\"Generated Response - using Query and matched documents: \")\n",
    "print(result, \"\\n\")\n",
    "\n"
   ]
  },
  {
   "cell_type": "code",
   "execution_count": null,
   "metadata": {},
   "outputs": [],
   "source": []
  },
  {
   "cell_type": "code",
   "execution_count": null,
   "metadata": {},
   "outputs": [],
   "source": []
  },
  {
   "cell_type": "code",
   "execution_count": null,
   "metadata": {},
   "outputs": [
    {
     "data": {
      "text/plain": [
       "['It works by lowering glucose production in the liver.',\n",
       " 'Common side effects include nausea, upset stomach, and diarrhea.']"
      ]
     },
     "execution_count": 7,
     "metadata": {},
     "output_type": "execute_result"
    }
   ],
   "source": []
  },
  {
   "cell_type": "code",
   "execution_count": null,
   "metadata": {},
   "outputs": [
    {
     "data": {
      "text/plain": [
       "'What are the side effects of Metformin?'"
      ]
     },
     "execution_count": 8,
     "metadata": {},
     "output_type": "execute_result"
    }
   ],
   "source": []
  },
  {
   "cell_type": "code",
   "execution_count": null,
   "metadata": {},
   "outputs": [],
   "source": []
  },
  {
   "cell_type": "code",
   "execution_count": null,
   "metadata": {},
   "outputs": [],
   "source": []
  }
 ],
 "metadata": {
  "kernelspec": {
   "display_name": "rag_env",
   "language": "python",
   "name": "python3"
  },
  "language_info": {
   "codemirror_mode": {
    "name": "ipython",
    "version": 3
   },
   "file_extension": ".py",
   "mimetype": "text/x-python",
   "name": "python",
   "nbconvert_exporter": "python",
   "pygments_lexer": "ipython3",
   "version": "3.12.7"
  }
 },
 "nbformat": 4,
 "nbformat_minor": 2
}
